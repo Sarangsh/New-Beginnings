{
 "cells": [
  {
   "cell_type": "code",
   "execution_count": 5,
   "id": "0d529704",
   "metadata": {},
   "outputs": [],
   "source": [
    "x = range(1999,3201,1)"
   ]
  },
  {
   "cell_type": "code",
   "execution_count": 6,
   "id": "3785f2b6",
   "metadata": {},
   "outputs": [],
   "source": [
    "s=[]\n",
    "for z in x:\n",
    "    if (z%7==0 and z%5!=0):\n",
    "        s.append(z)"
   ]
  },
  {
   "cell_type": "code",
   "execution_count": 7,
   "id": "9217a070",
   "metadata": {},
   "outputs": [
    {
     "name": "stdout",
     "output_type": "stream",
     "text": [
      "2002,2009,2016,2023,2037,2044,2051,2058,2072,2079,2086,2093,2107,2114,2121,2128,2142,2149,2156,2163,2177,2184,2191,2198,2212,2219,2226,2233,2247,2254,2261,2268,2282,2289,2296,2303,2317,2324,2331,2338,2352,2359,2366,2373,2387,2394,2401,2408,2422,2429,2436,2443,2457,2464,2471,2478,2492,2499,2506,2513,2527,2534,2541,2548,2562,2569,2576,2583,2597,2604,2611,2618,2632,2639,2646,2653,2667,2674,2681,2688,2702,2709,2716,2723,2737,2744,2751,2758,2772,2779,2786,2793,2807,2814,2821,2828,2842,2849,2856,2863,2877,2884,2891,2898,2912,2919,2926,2933,2947,2954,2961,2968,2982,2989,2996,3003,3017,3024,3031,3038,3052,3059,3066,3073,3087,3094,3101,3108,3122,3129,3136,3143,3157,3164,3171,3178,3192,3199\n"
     ]
    }
   ],
   "source": [
    "print(*s,sep=',')"
   ]
  },
  {
   "cell_type": "code",
   "execution_count": 15,
   "id": "6a864563",
   "metadata": {},
   "outputs": [
    {
     "name": "stdout",
     "output_type": "stream",
     "text": [
      "Input your first name Sarangsh\n"
     ]
    }
   ],
   "source": [
    "a = input(\"Input your first name \")[::-1]"
   ]
  },
  {
   "cell_type": "code",
   "execution_count": 16,
   "id": "24c0a867",
   "metadata": {},
   "outputs": [
    {
     "name": "stdout",
     "output_type": "stream",
     "text": [
      "Input your last name Nandi\n"
     ]
    }
   ],
   "source": [
    "b = input (\"Input your last name \")[::-1]"
   ]
  },
  {
   "cell_type": "code",
   "execution_count": 18,
   "id": "33fd75c4",
   "metadata": {},
   "outputs": [
    {
     "name": "stdout",
     "output_type": "stream",
     "text": [
      "hsgnaraS idnaN\n"
     ]
    }
   ],
   "source": [
    "print(a+' '+b)"
   ]
  },
  {
   "cell_type": "code",
   "execution_count": 21,
   "id": "277010a4",
   "metadata": {},
   "outputs": [],
   "source": [
    "import math\n",
    "d = 12\n",
    "r= d/2\n",
    "v = 4/3 * math.pi * r**3"
   ]
  },
  {
   "cell_type": "code",
   "execution_count": 23,
   "id": "431e4f37",
   "metadata": {},
   "outputs": [
    {
     "name": "stdout",
     "output_type": "stream",
     "text": [
      "904.7786842338603\n"
     ]
    }
   ],
   "source": [
    "print(v)"
   ]
  }
 ],
 "metadata": {
  "kernelspec": {
   "display_name": "Python 3",
   "language": "python",
   "name": "python3"
  }
 },
 "nbformat": 4,
 "nbformat_minor": 5
}

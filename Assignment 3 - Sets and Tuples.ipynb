{
 "cells": [
  {
   "cell_type": "code",
   "execution_count": 21,
   "id": "a7a4063d",
   "metadata": {},
   "outputs": [],
   "source": [
    "list=[]\n",
    "list2=[1,2,3,4,5,6,7,8,9,10]\n",
    "def filter1(odd,list2):\n",
    "    return odd()\n",
    "def odd():\n",
    "    for i in list2:\n",
    "        if i%2!=0:\n",
    "            list.append(i)\n",
    "    return list\n",
    "\n",
    "\n"
   ]
  },
  {
   "cell_type": "code",
   "execution_count": 22,
   "id": "c5901524",
   "metadata": {},
   "outputs": [
    {
     "data": {
      "text/plain": [
       "[1, 3, 5, 7, 9]"
      ]
     },
     "execution_count": 22,
     "metadata": {},
     "output_type": "execute_result"
    }
   ],
   "source": [
    "filter1(odd,list2)"
   ]
  },
  {
   "cell_type": "code",
   "execution_count": 28,
   "id": "a83e35ad",
   "metadata": {},
   "outputs": [
    {
     "name": "stdout",
     "output_type": "stream",
     "text": [
      "10\n"
     ]
    }
   ],
   "source": [
    "def reduce1(add,list4):\n",
    "    return a\n",
    "def add(a,b):\n",
    "    return a+b\n",
    "list4 =[1,2,3,4]\n",
    "a = list4[0]\n",
    "for i in range(1,len(list4)):\n",
    "    b=list4[i]\n",
    "    a = add(a,b)\n",
    "print(reduce1(add,list4))"
   ]
  },
  {
   "cell_type": "code",
   "execution_count": 31,
   "id": "cb3de534",
   "metadata": {},
   "outputs": [
    {
     "name": "stdout",
     "output_type": "stream",
     "text": [
      "['x', 'xx', 'xxx', 'y', 'yy', 'yyy', 'z', 'zz', 'zzz']\n"
     ]
    }
   ],
   "source": [
    "listx = ['x','y','z']\n",
    "result = [i*z for i in listx for z in range(1,4)]\n",
    "print(result)"
   ]
  },
  {
   "cell_type": "code",
   "execution_count": 32,
   "id": "95469017",
   "metadata": {},
   "outputs": [
    {
     "name": "stdout",
     "output_type": "stream",
     "text": [
      "['x', 'y', 'z', 'xx', 'yy', 'zz', 'xxx', 'yyy', 'zzz']\n"
     ]
    }
   ],
   "source": [
    "listx = ['x','y','z']\n",
    "result = [i*z for i in range(1,4) for z in listx]\n",
    "print(result)"
   ]
  }
 ],
 "metadata": {
  "kernelspec": {
   "display_name": "Python 3",
   "language": "python",
   "name": "python3"
  },
  "language_info": {
   "codemirror_mode": {
    "name": "ipython",
    "version": 3
   },
   "file_extension": ".py",
   "mimetype": "text/x-python",
   "name": "python",
   "nbconvert_exporter": "python",
   "pygments_lexer": "ipython3",
   "version": "3.8.8"
  }
 },
 "nbformat": 4,
 "nbformat_minor": 5
}
